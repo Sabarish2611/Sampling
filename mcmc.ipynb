{
 "cells": [
  {
   "cell_type": "code",
   "execution_count": 1,
   "metadata": {},
   "outputs": [],
   "source": [
    "import numpy as np#importing packages\n",
    "import numpy.random as random\n",
    "import matplotlib.pyplot as plt"
   ]
  },
  {
   "cell_type": "code",
   "execution_count": 13,
   "metadata": {},
   "outputs": [
    {
     "data": {
      "text/plain": [
       "[<matplotlib.lines.Line2D at 0x204fbde6490>]"
      ]
     },
     "execution_count": 13,
     "metadata": {},
     "output_type": "execute_result"
    },
    {
     "data": {
      "image/png": "[encoded data removed]",
      "text/plain": [
       "<Figure size 432x288 with 1 Axes>"
      ]
     },
     "metadata": {
      "needs_background": "light"
     },
     "output_type": "display_data"
    }
   ],
   "source": [
    "def normal_dt(x,mu,sigma):#generating normal distribution\n",
    "    numerator = np.exp((-(x-mu)**2)/(2*sigma**2))\n",
    "    denominator = sigma * np.sqrt(2*np.pi)\n",
    "    return numerator/denominator\n",
    "\n",
    "def random_coin(p):#generating uniform random value with condition\n",
    "    unif = random.uniform(0,1)\n",
    "    if unif>=p:\n",
    "        return False\n",
    "    else:\n",
    "        return True\n",
    "    \n",
    "def gauss_mcmc(hops,mu,sigma):\n",
    "    states = []\n",
    "    burn_in = int(hops*0.2)\n",
    "    current = random.uniform(-5*sigma+mu,5*sigma+mu)#current value updation\n",
    "    for i in range(hops):\n",
    "        states.append(current)\n",
    "        movement = random.uniform(-5*sigma+mu,5*sigma+mu)#movement value updation\n",
    "        \n",
    "        curr_prob = normal_dt(x=current,mu=mu,sigma=sigma)\n",
    "        move_prob = normal_dt(x=movement,mu=mu,sigma=sigma)#computing their probablities\n",
    "        \n",
    "        acceptance = min(move_prob/curr_prob,1)#defining the acceptance condition\n",
    "        if random_coin(acceptance):#checking the condition\n",
    "            current = movement#if yes add the value\n",
    "    return states[burn_in:]\n",
    "    \n",
    "lines = np.linspace(-3,3,1000)\n",
    "normal_curve = [normal_dt(l,mu=0,sigma=1) for l in lines]\n",
    "dist = gauss_mcmc(100_000,mu=0,sigma=1)\n",
    "plt.hist(dist,density = True,bins=20) \n",
    "plt.plot(lines,normal_curve)#plotting the curve"
   ]
  }
 ],
 "metadata": {
  "kernelspec": {
   "display_name": "Python 3",
   "language": "python",
   "name": "python3"
  },
  "language_info": {
   "codemirror_mode": {
    "name": "ipython",
    "version": 3
   },
   "file_extension": ".py",
   "mimetype": "text/x-python",
   "name": "python",
   "nbconvert_exporter": "python",
   "pygments_lexer": "ipython3",
   "version": "3.7.6"
  }
 },
 "nbformat": 4,
 "nbformat_minor": 5
}
